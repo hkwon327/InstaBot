{
 "cells": [
  {
   "cell_type": "code",
   "execution_count": null,
   "id": "9981d6f2",
   "metadata": {},
   "outputs": [],
   "source": [
    "from selenium import webdriver\n",
    "from selenium.webdriver.common.keys import Keys\n",
    "import time\n",
    "driver = webdriver.Chrome('/Applications/anaconda3/chromedriver')"
   ]
  },
  {
   "cell_type": "code",
   "execution_count": null,
   "id": "ec759f2d",
   "metadata": {},
   "outputs": [],
   "source": [
    "url = 'https://www.instagram.com'\n",
    "time.sleep(1)\n",
    "driver.get(url)\n",
    "time.sleep(40)"
   ]
  },
  {
   "cell_type": "code",
   "execution_count": null,
   "id": "1cc71bc0",
   "metadata": {},
   "outputs": [],
   "source": [
    "e = driver.find_elements_by_class_name('yZn4P')[0]\n",
    "e.click()"
   ]
  },
  {
   "cell_type": "code",
   "execution_count": null,
   "id": "a2360182",
   "metadata": {},
   "outputs": [],
   "source": []
  },
  {
   "cell_type": "code",
   "execution_count": null,
   "id": "feb30310",
   "metadata": {},
   "outputs": [],
   "source": []
  }
 ],
 "metadata": {
  "kernelspec": {
   "display_name": "Python 3",
   "language": "python",
   "name": "python3"
  },
  "language_info": {
   "codemirror_mode": {
    "name": "ipython",
    "version": 3
   },
   "file_extension": ".py",
   "mimetype": "text/x-python",
   "name": "python",
   "nbconvert_exporter": "python",
   "pygments_lexer": "ipython3",
   "version": "3.8.8"
  }
 },
 "nbformat": 4,
 "nbformat_minor": 5
}
